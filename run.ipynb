{
 "cells": [
  {
   "cell_type": "code",
   "execution_count": 1,
   "id": "29441120",
   "metadata": {},
   "outputs": [
    {
     "name": "stdout",
     "output_type": "stream",
     "text": [
      "['/home/ibtehaj/Documents/ibtehaj/art/back_ground_change/nft/Input/3.png', '/home/ibtehaj/Documents/ibtehaj/art/back_ground_change/nft/Input/1.png', '/home/ibtehaj/Documents/ibtehaj/art/back_ground_change/nft/Input/2.png']\n",
      "/home/ibtehaj/Documents/ibtehaj/art/back_ground_change/env/lib/python3.6/site-packages/torch/cuda/__init__.py:52: UserWarning: CUDA initialization: CUDA unknown error - this may be due to an incorrectly set up environment, e.g. changing env variable CUDA_VISIBLE_DEVICES after program start. Setting the available devices to be zero. (Triggered internally at  /pytorch/c10/cuda/CUDAFunctions.cpp:100.)\n",
      "  return torch._C._cuda_getDeviceCount() > 0\n",
      "/home/ibtehaj/Documents/ibtehaj/art/back_ground_change/env/lib/python3.6/site-packages/torch/nn/functional.py:2952: UserWarning: nn.functional.upsample is deprecated. Use nn.functional.interpolate instead.\n",
      "  warnings.warn(\"nn.functional.upsample is deprecated. Use nn.functional.interpolate instead.\")\n",
      "/home/ibtehaj/Documents/ibtehaj/art/back_ground_change/env/lib/python3.6/site-packages/torch/nn/functional.py:3063: UserWarning: Default upsampling behavior when mode=bilinear is changed to align_corners=False since 0.4.0. Please specify align_corners=True if the old behavior is desired. See the documentation of nn.Upsample for details.\n",
      "  \"See the documentation of nn.Upsample for details.\".format(mode))\n",
      "/home/ibtehaj/Documents/ibtehaj/art/back_ground_change/env/lib/python3.6/site-packages/torch/nn/functional.py:1639: UserWarning: nn.functional.sigmoid is deprecated. Use torch.sigmoid instead.\n",
      "  warnings.warn(\"nn.functional.sigmoid is deprecated. Use torch.sigmoid instead.\")\n",
      "3.png\n",
      "1.png\n",
      "2.png\n",
      "done\n"
     ]
    }
   ],
   "source": [
    "!python code/object.py"
   ]
  },
  {
   "cell_type": "code",
   "execution_count": null,
   "id": "adbcd94c",
   "metadata": {},
   "outputs": [],
   "source": []
  }
 ],
 "metadata": {
  "kernelspec": {
   "display_name": "Python 3",
   "language": "python",
   "name": "python3"
  },
  "language_info": {
   "codemirror_mode": {
    "name": "ipython",
    "version": 3
   },
   "file_extension": ".py",
   "mimetype": "text/x-python",
   "name": "python",
   "nbconvert_exporter": "python",
   "pygments_lexer": "ipython3",
   "version": "3.6.9"
  }
 },
 "nbformat": 4,
 "nbformat_minor": 5
}
